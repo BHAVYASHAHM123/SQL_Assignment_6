{
  "nbformat": 4,
  "nbformat_minor": 0,
  "metadata": {
    "colab": {
      "name": "SQL_Assignment_6.ipynb",
      "provenance": []
    },
    "kernelspec": {
      "name": "python3",
      "display_name": "Python 3"
    },
    "language_info": {
      "name": "python"
    }
  },
  "cells": [
    {
      "cell_type": "markdown",
      "source": [
        "Q1). Write an SQL query to print details of the Workers who have joined in Feb’2014.\n",
        "\n",
        "Ans)\n",
        "\n",
        "Select * from Worker where year(JOINING_DATE) = 2014 and month(JOINING_DATE) = 2;"
      ],
      "metadata": {
        "id": "-ooJWh5sOEIF"
      }
    },
    {
      "cell_type": "markdown",
      "source": [
        "Q2) Write an SQL query to fetch duplicate records having matching data in some fields of a table.\n",
        "\n",
        "Ans) \n",
        "\n",
        "SELECT username, email, COUNT(*) FROM users GROUP BY username, email HAVING COUNT(*) > 1"
      ],
      "metadata": {
        "id": "70QNqtiHOEEe"
      }
    },
    {
      "cell_type": "markdown",
      "source": [
        "Q3). How to remove duplicate rows from Employees table.\n",
        "\n",
        "Ans) DELETE FROM DETAILS WHERE SN NOT IN (\n",
        "SELECT MAX(SN) FROM Employee GROUP BY EMPNAME,DEPT,CONTACTNO,CITY)"
      ],
      "metadata": {
        "id": "tCAHjQn0OEB0"
      }
    },
    {
      "cell_type": "markdown",
      "source": [
        ""
      ],
      "metadata": {
        "id": "niLC2I24OD_S"
      }
    },
    {
      "cell_type": "code",
      "execution_count": null,
      "metadata": {
        "id": "bjFr4hMSOBhQ"
      },
      "outputs": [],
      "source": [
        ""
      ]
    }
  ]
}